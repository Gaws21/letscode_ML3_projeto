{
 "cells": [
  {
   "cell_type": "markdown",
   "id": "23acbec8",
   "metadata": {},
   "source": [
    "# Começando a pensar no projeto"
   ]
  },
  {
   "cell_type": "markdown",
   "id": "74c57223",
   "metadata": {},
   "source": [
    "\n",
    "## Contextualização\n",
    "\n",
    "A PyCoders Ltda., cada vez mais especializada no mundo da Inteligência Artificial e Ciência de Dados, foi procurada por uma fintech para desenvolver um projeto de teste de produtos. Nesse projeto, espera-se a criação de valor que **discrimine ao máximo** os **produtos com falhas** dos **produto sem falhas**. \n",
    "\n",
    "Para cada product_code, você recebe vários atributos de produto (fixados para o código), bem como vários valores de medição para cada produto individual, representando vários métodos de teste de laboratório. Cada produto é usado em um experimento simulado de ambiente do mundo real e absorve uma certa quantidade de fluido (carregamento) para ver se falha ou não.\n",
    "\n",
    "Sua tarefa é usar os dados para prever falhas de novos códigos de produtos individuais com seus resultados de testes de laboratório individuais.\n",
    "\n",
    "Para isso, foi disponibilizada uma base de dados com milhares de casos de **testes do passado** com diversas características dos produtos. \n",
    "\n",
    "Entrega: um modelo com a **melhor performance** possível.\n",
    "\n",
    "Métrica de performance (inicialmente proposta): **ROC-AUC** (mas isso é flexível, conforme detalhado mais abaixo!)"
   ]
  },
  {
   "cell_type": "markdown",
   "id": "7d2f46d9",
   "metadata": {},
   "source": [
    "## Base de Dados\n",
    "\n",
    "Serão utilizadas bases de dados com **informações de diversos produtos**. \n",
    "\n",
    "O conjunto de dados está dividido em **treino e teste**, todos no formato csv. \n",
    "\n",
    "Toda a modelagem, validação e avaliação deve ser feita em cima do conjunto de **treino**, que contém o target (arquivo: `train_data.csv`)"
   ]
  },
  {
   "cell_type": "markdown",
   "id": "a6793b12",
   "metadata": {},
   "source": [
    "## INICIANDO O PROJETO"
   ]
  },
  {
   "cell_type": "markdown",
   "id": "633bdebf",
   "metadata": {},
   "source": [
    "**Carregando as bibliotecas**"
   ]
  },
  {
   "cell_type": "code",
   "execution_count": 273,
   "id": "1ea5048a",
   "metadata": {
    "ExecuteTime": {
     "end_time": "2022-07-19T23:43:06.122155Z",
     "start_time": "2022-07-19T23:43:01.924164Z"
    }
   },
   "outputs": [],
   "source": [
    "import matplotlib.pyplot as plt\n",
    "import numpy as np\n",
    "import pandas as pd\n",
    "import seaborn as sns\n",
    "from collections import Counter\n",
    "from imblearn.combine import SMOTEENN\n",
    "from imblearn.combine import SMOTETomek\n",
    "from imblearn.over_sampling import SMOTE\n",
    "from imblearn.over_sampling import RandomOverSampler\n",
    "from imblearn.under_sampling import RandomUnderSampler\n",
    "from imblearn.under_sampling import TomekLinks\n",
    "from imblearn.pipeline import Pipeline\n",
    "from sklearn.compose import ColumnTransformer\n",
    "from sklearn.feature_selection import RFE\n",
    "from sklearn.ensemble import RandomForestClassifier\n",
    "from sklearn.impute import SimpleImputer\n",
    "from sklearn.linear_model import LogisticRegression\n",
    "from sklearn.metrics import classification_report\n",
    "from sklearn.metrics import ConfusionMatrixDisplay\n",
    "from sklearn.metrics import confusion_matrix\n",
    "from sklearn.model_selection import GridSearchCV\n",
    "from sklearn.model_selection import RandomizedSearchCV\n",
    "from sklearn.model_selection import StratifiedKFold\n",
    "from sklearn.model_selection import train_test_split\n",
    "#from sklearn.pipeline import Pipeline\n",
    "from sklearn.preprocessing import MinMaxScaler \n",
    "from sklearn.preprocessing import OneHotEncoder\n",
    "from sklearn.preprocessing import StandardScaler\n",
    "from sklearn.tree import DecisionTreeClassifier\n",
    "\n",
    "\n",
    "\n"
   ]
  },
  {
   "cell_type": "markdown",
   "id": "32824a16",
   "metadata": {},
   "source": [
    "# ANÁLISE E EXPLORAÇÃO DOS DADOS"
   ]
  },
  {
   "cell_type": "code",
   "execution_count": 223,
   "id": "ae8301aa",
   "metadata": {
    "ExecuteTime": {
     "end_time": "2022-07-19T23:59:05.345615Z",
     "start_time": "2022-07-19T23:59:05.330657Z"
    }
   },
   "outputs": [],
   "source": [
    "#ler os datasets\n",
    "train_data_read = pd.read_csv('train_data.csv')\n",
    "test_data_read = pd.read_csv('test_data.csv')"
   ]
  },
  {
   "cell_type": "code",
   "execution_count": 224,
   "id": "350c8847",
   "metadata": {},
   "outputs": [
    {
     "data": {
      "text/plain": [
       "(21256, 27)"
      ]
     },
     "execution_count": 224,
     "metadata": {},
     "output_type": "execute_result"
    }
   ],
   "source": [
    "#Avaliar a quantidade de linhas dos dados de treino\n",
    "train_data_read.shape"
   ]
  },
  {
   "cell_type": "code",
   "execution_count": 225,
   "id": "74f09de1",
   "metadata": {},
   "outputs": [
    {
     "data": {
      "text/plain": [
       "(5314, 27)"
      ]
     },
     "execution_count": 225,
     "metadata": {},
     "output_type": "execute_result"
    }
   ],
   "source": [
    "##Avaliar a quantidade de linhas dos dados de teste\n",
    "test_data_read.shape"
   ]
  },
  {
   "cell_type": "code",
   "execution_count": 226,
   "id": "94d4bea8",
   "metadata": {},
   "outputs": [
    {
     "data": {
      "text/plain": [
       "0    16737\n",
       "1     4519\n",
       "Name: failure, dtype: int64"
      ]
     },
     "execution_count": 226,
     "metadata": {},
     "output_type": "execute_result"
    }
   ],
   "source": [
    "#Verificar o quão desbalanceado está o target\n",
    "train_data_read['failure'].value_counts()"
   ]
  },
  {
   "cell_type": "markdown",
   "id": "b99766fe",
   "metadata": {},
   "source": [
    "Como é notado acima, o target está muita desbalanceado. Dessa forma é necessário aplicar algumas técnicas de balanceamento e comparar os resultados."
   ]
  },
  {
   "cell_type": "code",
   "execution_count": 227,
   "id": "573f9b6e",
   "metadata": {},
   "outputs": [
    {
     "data": {
      "text/html": [
       "<div>\n",
       "<style scoped>\n",
       "    .dataframe tbody tr th:only-of-type {\n",
       "        vertical-align: middle;\n",
       "    }\n",
       "\n",
       "    .dataframe tbody tr th {\n",
       "        vertical-align: top;\n",
       "    }\n",
       "\n",
       "    .dataframe thead th {\n",
       "        text-align: right;\n",
       "    }\n",
       "</style>\n",
       "<table border=\"1\" class=\"dataframe\">\n",
       "  <thead>\n",
       "    <tr style=\"text-align: right;\">\n",
       "      <th></th>\n",
       "      <th>Unnamed: 0</th>\n",
       "      <th>id</th>\n",
       "      <th>product_code</th>\n",
       "      <th>loading</th>\n",
       "      <th>attribute_0</th>\n",
       "      <th>attribute_1</th>\n",
       "      <th>attribute_2</th>\n",
       "      <th>attribute_3</th>\n",
       "      <th>measurement_0</th>\n",
       "      <th>measurement_1</th>\n",
       "      <th>...</th>\n",
       "      <th>measurement_9</th>\n",
       "      <th>measurement_10</th>\n",
       "      <th>measurement_11</th>\n",
       "      <th>measurement_12</th>\n",
       "      <th>measurement_13</th>\n",
       "      <th>measurement_14</th>\n",
       "      <th>measurement_15</th>\n",
       "      <th>measurement_16</th>\n",
       "      <th>measurement_17</th>\n",
       "      <th>failure</th>\n",
       "    </tr>\n",
       "  </thead>\n",
       "  <tbody>\n",
       "    <tr>\n",
       "      <th>0</th>\n",
       "      <td>2596</td>\n",
       "      <td>2596</td>\n",
       "      <td>A</td>\n",
       "      <td>94.34</td>\n",
       "      <td>material_7</td>\n",
       "      <td>material_8</td>\n",
       "      <td>9</td>\n",
       "      <td>5</td>\n",
       "      <td>6</td>\n",
       "      <td>2</td>\n",
       "      <td>...</td>\n",
       "      <td>10.625</td>\n",
       "      <td>NaN</td>\n",
       "      <td>15.828</td>\n",
       "      <td>12.402</td>\n",
       "      <td>13.289</td>\n",
       "      <td>15.886</td>\n",
       "      <td>15.990</td>\n",
       "      <td>15.352</td>\n",
       "      <td>803.056</td>\n",
       "      <td>1</td>\n",
       "    </tr>\n",
       "    <tr>\n",
       "      <th>1</th>\n",
       "      <td>23021</td>\n",
       "      <td>23021</td>\n",
       "      <td>E</td>\n",
       "      <td>117.02</td>\n",
       "      <td>material_7</td>\n",
       "      <td>material_6</td>\n",
       "      <td>6</td>\n",
       "      <td>9</td>\n",
       "      <td>11</td>\n",
       "      <td>10</td>\n",
       "      <td>...</td>\n",
       "      <td>10.941</td>\n",
       "      <td>13.620</td>\n",
       "      <td>17.654</td>\n",
       "      <td>11.603</td>\n",
       "      <td>14.949</td>\n",
       "      <td>18.139</td>\n",
       "      <td>13.940</td>\n",
       "      <td>NaN</td>\n",
       "      <td>719.968</td>\n",
       "      <td>0</td>\n",
       "    </tr>\n",
       "    <tr>\n",
       "      <th>2</th>\n",
       "      <td>10202</td>\n",
       "      <td>10202</td>\n",
       "      <td>B</td>\n",
       "      <td>256.42</td>\n",
       "      <td>material_5</td>\n",
       "      <td>material_5</td>\n",
       "      <td>8</td>\n",
       "      <td>8</td>\n",
       "      <td>5</td>\n",
       "      <td>10</td>\n",
       "      <td>...</td>\n",
       "      <td>10.620</td>\n",
       "      <td>16.771</td>\n",
       "      <td>17.423</td>\n",
       "      <td>NaN</td>\n",
       "      <td>16.413</td>\n",
       "      <td>14.752</td>\n",
       "      <td>16.220</td>\n",
       "      <td>16.671</td>\n",
       "      <td>661.213</td>\n",
       "      <td>1</td>\n",
       "    </tr>\n",
       "    <tr>\n",
       "      <th>3</th>\n",
       "      <td>19048</td>\n",
       "      <td>19048</td>\n",
       "      <td>D</td>\n",
       "      <td>87.76</td>\n",
       "      <td>material_7</td>\n",
       "      <td>material_5</td>\n",
       "      <td>6</td>\n",
       "      <td>6</td>\n",
       "      <td>5</td>\n",
       "      <td>13</td>\n",
       "      <td>...</td>\n",
       "      <td>10.387</td>\n",
       "      <td>18.028</td>\n",
       "      <td>19.016</td>\n",
       "      <td>11.727</td>\n",
       "      <td>16.378</td>\n",
       "      <td>17.244</td>\n",
       "      <td>15.472</td>\n",
       "      <td>14.017</td>\n",
       "      <td>536.760</td>\n",
       "      <td>0</td>\n",
       "    </tr>\n",
       "    <tr>\n",
       "      <th>4</th>\n",
       "      <td>14789</td>\n",
       "      <td>14789</td>\n",
       "      <td>C</td>\n",
       "      <td>97.84</td>\n",
       "      <td>material_7</td>\n",
       "      <td>material_8</td>\n",
       "      <td>5</td>\n",
       "      <td>8</td>\n",
       "      <td>17</td>\n",
       "      <td>6</td>\n",
       "      <td>...</td>\n",
       "      <td>13.372</td>\n",
       "      <td>15.236</td>\n",
       "      <td>19.875</td>\n",
       "      <td>9.911</td>\n",
       "      <td>16.082</td>\n",
       "      <td>18.070</td>\n",
       "      <td>15.504</td>\n",
       "      <td>15.130</td>\n",
       "      <td>535.931</td>\n",
       "      <td>1</td>\n",
       "    </tr>\n",
       "  </tbody>\n",
       "</table>\n",
       "<p>5 rows × 27 columns</p>\n",
       "</div>"
      ],
      "text/plain": [
       "   Unnamed: 0     id product_code  loading attribute_0 attribute_1  \\\n",
       "0        2596   2596            A    94.34  material_7  material_8   \n",
       "1       23021  23021            E   117.02  material_7  material_6   \n",
       "2       10202  10202            B   256.42  material_5  material_5   \n",
       "3       19048  19048            D    87.76  material_7  material_5   \n",
       "4       14789  14789            C    97.84  material_7  material_8   \n",
       "\n",
       "   attribute_2  attribute_3  measurement_0  measurement_1  ...  measurement_9  \\\n",
       "0            9            5              6              2  ...         10.625   \n",
       "1            6            9             11             10  ...         10.941   \n",
       "2            8            8              5             10  ...         10.620   \n",
       "3            6            6              5             13  ...         10.387   \n",
       "4            5            8             17              6  ...         13.372   \n",
       "\n",
       "   measurement_10  measurement_11  measurement_12  measurement_13  \\\n",
       "0             NaN          15.828          12.402          13.289   \n",
       "1          13.620          17.654          11.603          14.949   \n",
       "2          16.771          17.423             NaN          16.413   \n",
       "3          18.028          19.016          11.727          16.378   \n",
       "4          15.236          19.875           9.911          16.082   \n",
       "\n",
       "   measurement_14  measurement_15  measurement_16  measurement_17  failure  \n",
       "0          15.886          15.990          15.352         803.056        1  \n",
       "1          18.139          13.940             NaN         719.968        0  \n",
       "2          14.752          16.220          16.671         661.213        1  \n",
       "3          17.244          15.472          14.017         536.760        0  \n",
       "4          18.070          15.504          15.130         535.931        1  \n",
       "\n",
       "[5 rows x 27 columns]"
      ]
     },
     "execution_count": 227,
     "metadata": {},
     "output_type": "execute_result"
    }
   ],
   "source": [
    "#Analisando o dataset de treino\n",
    "train_data_read.head()"
   ]
  },
  {
   "cell_type": "markdown",
   "id": "e360ffc4",
   "metadata": {},
   "source": [
    "Percebe-se a principio que as colunas 'Unnamed: 0' e id tem os mesmo valores. Dessa forma é necessário uma análise mais minuciosa para confirmar tal hipótese."
   ]
  },
  {
   "cell_type": "code",
   "execution_count": 228,
   "id": "374446e8",
   "metadata": {},
   "outputs": [
    {
     "data": {
      "text/plain": [
       "21256"
      ]
     },
     "execution_count": 228,
     "metadata": {},
     "output_type": "execute_result"
    }
   ],
   "source": [
    "#Verifcar quantidade de valores da coluna 'Unnamed: 0'\n",
    "len(train_data_read['Unnamed: 0'].unique().tolist())"
   ]
  },
  {
   "cell_type": "code",
   "execution_count": 229,
   "id": "9b13602a",
   "metadata": {},
   "outputs": [
    {
     "data": {
      "text/plain": [
       "21256"
      ]
     },
     "execution_count": 229,
     "metadata": {},
     "output_type": "execute_result"
    }
   ],
   "source": [
    "#Verifcar quantidade de valores da coluna id\n",
    "len(train_data_read['id'].unique().tolist())"
   ]
  },
  {
   "cell_type": "code",
   "execution_count": 230,
   "id": "e669990a",
   "metadata": {},
   "outputs": [],
   "source": [
    "#Comparar os valores das duas colunas\n",
    "comparation_id_column = pd.DataFrame(train_data_read['Unnamed: 0'] == train_data_read['id'], columns=['Result'])"
   ]
  },
  {
   "cell_type": "code",
   "execution_count": 231,
   "id": "3923f3ea",
   "metadata": {},
   "outputs": [
    {
     "data": {
      "text/html": [
       "<div>\n",
       "<style scoped>\n",
       "    .dataframe tbody tr th:only-of-type {\n",
       "        vertical-align: middle;\n",
       "    }\n",
       "\n",
       "    .dataframe tbody tr th {\n",
       "        vertical-align: top;\n",
       "    }\n",
       "\n",
       "    .dataframe thead th {\n",
       "        text-align: right;\n",
       "    }\n",
       "</style>\n",
       "<table border=\"1\" class=\"dataframe\">\n",
       "  <thead>\n",
       "    <tr style=\"text-align: right;\">\n",
       "      <th></th>\n",
       "      <th>Result</th>\n",
       "    </tr>\n",
       "  </thead>\n",
       "  <tbody>\n",
       "  </tbody>\n",
       "</table>\n",
       "</div>"
      ],
      "text/plain": [
       "Empty DataFrame\n",
       "Columns: [Result]\n",
       "Index: []"
      ]
     },
     "execution_count": 231,
     "metadata": {},
     "output_type": "execute_result"
    }
   ],
   "source": [
    "#Buscar por registros onde a comparação foi falsa\n",
    "comparation_id_column.query('Result == False')"
   ]
  },
  {
   "cell_type": "code",
   "execution_count": 232,
   "id": "77f3d2af",
   "metadata": {},
   "outputs": [],
   "source": [
    "#Como esperado as duas primeiras colunas são iguais e são colunas de indexação. \n",
    "#Sendo assim ambas serão excluídas.\n",
    "train_data_read.drop(axis=1, columns=['Unnamed: 0', 'id'], inplace=True)\n",
    "test_data_read.drop(axis=1, columns=['Unnamed: 0', 'id'], inplace=True)"
   ]
  },
  {
   "cell_type": "markdown",
   "id": "1c966c3b",
   "metadata": {},
   "source": [
    "Nota-se também que algumas colunas são categóricas, dessa forma é necessário trata-lás previamente. Mais a frente será aplicado algumas técnicas para lidar com dados categóricos. "
   ]
  },
  {
   "cell_type": "markdown",
   "id": "8b236cf6",
   "metadata": {},
   "source": [
    "Outra análise importante é sobre a quantidade de valores nulos. Esse caso também requer algum tipo de tratamento para melhorar a qualidade dos dados sem a necessidade de excluir todo o registro."
   ]
  },
  {
   "cell_type": "markdown",
   "id": "1026e36f",
   "metadata": {},
   "source": [
    "Aqui observa-se que existem algumas colunas com alguns dados nulos.\n",
    "Porém nem todas as features serão relevantes para o modelo.\n",
    "Para otimizar o volume das features utilizadas no treinamento será avaliado o valor das suas correlações logo abaixo"
   ]
  },
  {
   "cell_type": "code",
   "execution_count": 233,
   "id": "4934ab60",
   "metadata": {},
   "outputs": [],
   "source": [
    "plt.figure(figsize=(20, 14))\n",
    "sns.heatmap(train_data_read.corr(),\n",
    "            annot = True,\n",
    "            fmt = '.2f',\n",
    "            cmap='Blues')\n",
    "plt.title('Correlação entre as features')\n",
    "plt.show()"
   ]
  },
  {
   "cell_type": "markdown",
   "id": "ae88687d",
   "metadata": {},
   "source": [
    "Devido a baixa correlação que grande parte das features apresentam, foi mantida apenas aquelas com correlação maior que 0.3"
   ]
  },
  {
   "cell_type": "code",
   "execution_count": 336,
   "id": "5c5d1c27",
   "metadata": {},
   "outputs": [],
   "source": [
    "#DataFrame de treino resultante após exclusão das features com baixa correlação\n",
    "train_data_without_low_correlation_features = train_data_read.drop(axis=1, \n",
    "                                        columns=[\n",
    "                                            'loading',\n",
    "                                            'measurement_3',\n",
    "                                            'measurement_4',\n",
    "                                            'measurement_5',\n",
    "                                            'measurement_6',\n",
    "                                            'measurement_7',\n",
    "                                            'measurement_8',\n",
    "                                            'measurement_9',\n",
    "                                            'measurement_13'],\n",
    "                                        inplace=False)"
   ]
  },
  {
   "cell_type": "code",
   "execution_count": 337,
   "id": "f202191a",
   "metadata": {},
   "outputs": [],
   "source": [
    "#train_data_without_low_correlation_features = train_data_read"
   ]
  },
  {
   "cell_type": "code",
   "execution_count": 338,
   "id": "72562a78",
   "metadata": {},
   "outputs": [],
   "source": [
    "#DataFrame de teste resultante após exclusão das features com baixa correlação\n",
    "test_data_without_low_correlation_features = test_data_read.drop(axis=1, \n",
    "                                        columns=[\n",
    "                                           'loading',\n",
    "                                            'measurement_3',\n",
    "                                            'measurement_4',\n",
    "                                            'measurement_5',\n",
    "                                            'measurement_6',\n",
    "                                            'measurement_7',\n",
    "                                            'measurement_8',\n",
    "                                            'measurement_9',\n",
    "                                            'measurement_13'], inplace=False)"
   ]
  },
  {
   "cell_type": "markdown",
   "id": "5a5daa76",
   "metadata": {},
   "source": [
    "Escolhida as colunas que serão relevantes para o modelo, inicia-se o tratamento com os dados já separados. Como foi fornecido um arquivo separado com os dados de teste não será aplicado o train_test_split nesse caso."
   ]
  },
  {
   "cell_type": "code",
   "execution_count": 339,
   "id": "59798da4",
   "metadata": {},
   "outputs": [],
   "source": [
    "#Setando as features de treino\n",
    "X_train = train_data_without_low_correlation_features.drop(columns=['failure'])\n",
    "\n",
    "#Setando o target de treino\n",
    "y_train = train_data_without_low_correlation_features['failure']"
   ]
  },
  {
   "cell_type": "code",
   "execution_count": 340,
   "id": "c128244c",
   "metadata": {},
   "outputs": [],
   "source": [
    "#Setando as features de teste\n",
    "X_test = test_data_without_low_correlation_features.drop(columns=['failure'])\n",
    "\n",
    "#Setando o target de teste\n",
    "y_test = test_data_without_low_correlation_features['failure']"
   ]
  },
  {
   "cell_type": "markdown",
   "id": "30093562",
   "metadata": {},
   "source": [
    "# Preprocessamento de dados -> FEATURE ENGINEERING"
   ]
  },
  {
   "cell_type": "code",
   "execution_count": 342,
   "id": "29e49655",
   "metadata": {},
   "outputs": [],
   "source": [
    "#Primeramente é necessário separar as colunas categóricas das numéricas.\n",
    "#Uma das formas utilizadas é aplicando a filtragem pelo tipo da coluna com o método select_dtypes\n",
    "\n",
    "# Colunas categoricas\n",
    "categorical_columns = list(X_train.select_dtypes('object').columns)\n",
    "\n",
    "# Colunas numéricas\n",
    "numerical_columns = list(X_train.select_dtypes('number').columns)"
   ]
  },
  {
   "cell_type": "code",
   "execution_count": 343,
   "id": "e7b6a0fa",
   "metadata": {},
   "outputs": [
    {
     "data": {
      "text/html": [
       "<style>#sk-container-id-33 {color: black;background-color: white;}#sk-container-id-33 pre{padding: 0;}#sk-container-id-33 div.sk-toggleable {background-color: white;}#sk-container-id-33 label.sk-toggleable__label {cursor: pointer;display: block;width: 100%;margin-bottom: 0;padding: 0.3em;box-sizing: border-box;text-align: center;}#sk-container-id-33 label.sk-toggleable__label-arrow:before {content: \"▸\";float: left;margin-right: 0.25em;color: #696969;}#sk-container-id-33 label.sk-toggleable__label-arrow:hover:before {color: black;}#sk-container-id-33 div.sk-estimator:hover label.sk-toggleable__label-arrow:before {color: black;}#sk-container-id-33 div.sk-toggleable__content {max-height: 0;max-width: 0;overflow: hidden;text-align: left;background-color: #f0f8ff;}#sk-container-id-33 div.sk-toggleable__content pre {margin: 0.2em;color: black;border-radius: 0.25em;background-color: #f0f8ff;}#sk-container-id-33 input.sk-toggleable__control:checked~div.sk-toggleable__content {max-height: 200px;max-width: 100%;overflow: auto;}#sk-container-id-33 input.sk-toggleable__control:checked~label.sk-toggleable__label-arrow:before {content: \"▾\";}#sk-container-id-33 div.sk-estimator input.sk-toggleable__control:checked~label.sk-toggleable__label {background-color: #d4ebff;}#sk-container-id-33 div.sk-label input.sk-toggleable__control:checked~label.sk-toggleable__label {background-color: #d4ebff;}#sk-container-id-33 input.sk-hidden--visually {border: 0;clip: rect(1px 1px 1px 1px);clip: rect(1px, 1px, 1px, 1px);height: 1px;margin: -1px;overflow: hidden;padding: 0;position: absolute;width: 1px;}#sk-container-id-33 div.sk-estimator {font-family: monospace;background-color: #f0f8ff;border: 1px dotted black;border-radius: 0.25em;box-sizing: border-box;margin-bottom: 0.5em;}#sk-container-id-33 div.sk-estimator:hover {background-color: #d4ebff;}#sk-container-id-33 div.sk-parallel-item::after {content: \"\";width: 100%;border-bottom: 1px solid gray;flex-grow: 1;}#sk-container-id-33 div.sk-label:hover label.sk-toggleable__label {background-color: #d4ebff;}#sk-container-id-33 div.sk-serial::before {content: \"\";position: absolute;border-left: 1px solid gray;box-sizing: border-box;top: 0;bottom: 0;left: 50%;z-index: 0;}#sk-container-id-33 div.sk-serial {display: flex;flex-direction: column;align-items: center;background-color: white;padding-right: 0.2em;padding-left: 0.2em;position: relative;}#sk-container-id-33 div.sk-item {position: relative;z-index: 1;}#sk-container-id-33 div.sk-parallel {display: flex;align-items: stretch;justify-content: center;background-color: white;position: relative;}#sk-container-id-33 div.sk-item::before, #sk-container-id-33 div.sk-parallel-item::before {content: \"\";position: absolute;border-left: 1px solid gray;box-sizing: border-box;top: 0;bottom: 0;left: 50%;z-index: -1;}#sk-container-id-33 div.sk-parallel-item {display: flex;flex-direction: column;z-index: 1;position: relative;background-color: white;}#sk-container-id-33 div.sk-parallel-item:first-child::after {align-self: flex-end;width: 50%;}#sk-container-id-33 div.sk-parallel-item:last-child::after {align-self: flex-start;width: 50%;}#sk-container-id-33 div.sk-parallel-item:only-child::after {width: 0;}#sk-container-id-33 div.sk-dashed-wrapped {border: 1px dashed gray;margin: 0 0.4em 0.5em 0.4em;box-sizing: border-box;padding-bottom: 0.4em;background-color: white;}#sk-container-id-33 div.sk-label label {font-family: monospace;font-weight: bold;display: inline-block;line-height: 1.2em;}#sk-container-id-33 div.sk-label-container {text-align: center;}#sk-container-id-33 div.sk-container {/* jupyter's `normalize.less` sets `[hidden] { display: none; }` but bootstrap.min.css set `[hidden] { display: none !important; }` so we also need the `!important` here to be able to override the default hidden behavior on the sphinx rendered scikit-learn.org. See: https://github.com/scikit-learn/scikit-learn/issues/21755 */display: inline-block !important;position: relative;}#sk-container-id-33 div.sk-text-repr-fallback {display: none;}</style><div id=\"sk-container-id-33\" class=\"sk-top-container\"><div class=\"sk-text-repr-fallback\"><pre>Pipeline(steps=[(&#x27;impute&#x27;, SimpleImputer(fill_value=&#x27;#&#x27;, strategy=&#x27;constant&#x27;)),\n",
       "                (&#x27;encode&#x27;,\n",
       "                 OneHotEncoder(drop=&#x27;first&#x27;, handle_unknown=&#x27;ignore&#x27;,\n",
       "                               sparse=False))])</pre><b>In a Jupyter environment, please rerun this cell to show the HTML representation or trust the notebook. <br />On GitHub, the HTML representation is unable to render, please try loading this page with nbviewer.org.</b></div><div class=\"sk-container\" hidden><div class=\"sk-item sk-dashed-wrapped\"><div class=\"sk-label-container\"><div class=\"sk-label sk-toggleable\"><input class=\"sk-toggleable__control sk-hidden--visually\" id=\"sk-estimator-id-302\" type=\"checkbox\" ><label for=\"sk-estimator-id-302\" class=\"sk-toggleable__label sk-toggleable__label-arrow\">Pipeline</label><div class=\"sk-toggleable__content\"><pre>Pipeline(steps=[(&#x27;impute&#x27;, SimpleImputer(fill_value=&#x27;#&#x27;, strategy=&#x27;constant&#x27;)),\n",
       "                (&#x27;encode&#x27;,\n",
       "                 OneHotEncoder(drop=&#x27;first&#x27;, handle_unknown=&#x27;ignore&#x27;,\n",
       "                               sparse=False))])</pre></div></div></div><div class=\"sk-serial\"><div class=\"sk-item\"><div class=\"sk-estimator sk-toggleable\"><input class=\"sk-toggleable__control sk-hidden--visually\" id=\"sk-estimator-id-303\" type=\"checkbox\" ><label for=\"sk-estimator-id-303\" class=\"sk-toggleable__label sk-toggleable__label-arrow\">SimpleImputer</label><div class=\"sk-toggleable__content\"><pre>SimpleImputer(fill_value=&#x27;#&#x27;, strategy=&#x27;constant&#x27;)</pre></div></div></div><div class=\"sk-item\"><div class=\"sk-estimator sk-toggleable\"><input class=\"sk-toggleable__control sk-hidden--visually\" id=\"sk-estimator-id-304\" type=\"checkbox\" ><label for=\"sk-estimator-id-304\" class=\"sk-toggleable__label sk-toggleable__label-arrow\">OneHotEncoder</label><div class=\"sk-toggleable__content\"><pre>OneHotEncoder(drop=&#x27;first&#x27;, handle_unknown=&#x27;ignore&#x27;, sparse=False)</pre></div></div></div></div></div></div></div>"
      ],
      "text/plain": [
       "Pipeline(steps=[('impute', SimpleImputer(fill_value='#', strategy='constant')),\n",
       "                ('encode',\n",
       "                 OneHotEncoder(drop='first', handle_unknown='ignore',\n",
       "                               sparse=False))])"
      ]
     },
     "execution_count": 343,
     "metadata": {},
     "output_type": "execute_result"
    }
   ],
   "source": [
    "#Definida o conjunto de colunas pelo tipo, o próximo passo é definir as tratativas do pipeline.\n",
    "#Nesse caso os valores nulos serão substituídos pela string # e posteriormente os dados serão transformados\n",
    "#em valores numéricos utilizando a técnica de OneHotEncoder\n",
    "categorical_pipeline = Pipeline([ \n",
    "     ('impute', SimpleImputer(strategy='constant', fill_value='#')),\n",
    "     ('encode', OneHotEncoder(handle_unknown='ignore', sparse=False, drop='first'))\n",
    "])\n",
    "categorical_pipeline"
   ]
  },
  {
   "cell_type": "code",
   "execution_count": 349,
   "id": "c13ff9c6",
   "metadata": {},
   "outputs": [],
   "source": [
    "#Pipeline para tratamento numérico. Nesse caso foi escolhido a estratégia de preenchimento pela média\n",
    "#e MinMaxScaler como método de escalonamento.\n",
    "numeric_pipeline = Pipeline([\n",
    "    ('imputer', SimpleImputer(strategy='constant', fill_value=0)),\n",
    "    ('scaler', MinMaxScaler()) \n",
    "])"
   ]
  },
  {
   "cell_type": "code",
   "execution_count": 351,
   "id": "f74b417f",
   "metadata": {},
   "outputs": [],
   "source": [
    "#Como será aplicado tratamento separados para as colunas do tipo categórica e numérica\n",
    "#será utilizado a técnica de ColumnTransformer. Que permite criar um pipeline com tratamentos\n",
    "#distintos por conjunto de colunas.\n",
    "column_transformer_pipeline = ColumnTransformer([\n",
    "    ('cat', categorical_pipeline, categorical_columns),\n",
    "    ('num', numeric_pipeline, numerical_columns)\n",
    "])"
   ]
  },
  {
   "cell_type": "code",
   "execution_count": 245,
   "id": "25d06216",
   "metadata": {},
   "outputs": [],
   "source": [
    "\n",
    "pd.options.display.max_rows = 100"
   ]
  },
  {
   "cell_type": "code",
   "execution_count": 247,
   "id": "4cad11cd",
   "metadata": {},
   "outputs": [],
   "source": [
    "#Para visualisar os dados após o tratamento é necessário transformá-los novamente em um DataFrame.\n",
    "#Como o método do OneHotEncoder cria novas colunas é preciso antes obter o nome das novas colunas.\n",
    "\n",
    "#lista com o nome das colunas categóricas que foram utilizadas\n",
    "categorical_transform_names = column_transformer_pipeline.named_transformers_['cat']['encode'].get_feature_names_out(categorical_columns)\n",
    "\n",
    "#licas com o nome de todas as colunas.\n",
    "#Como não foi aplicado oneHotEncoder nas colunas numéricas podemos utilizar a mesma lista anterior.\n",
    "columns_transform_name = np.append(categorical_transform_names, numerical_columns)\n",
    "\n",
    "X_train_reload_df = pd.DataFrame(column_transformer_pipeline.transform(X_train), columns=columns_transform_name)"
   ]
  },
  {
   "cell_type": "code",
   "execution_count": 248,
   "id": "512e9947",
   "metadata": {},
   "outputs": [],
   "source": [
    "X_train_reload_df.head()"
   ]
  },
  {
   "cell_type": "code",
   "execution_count": 346,
   "id": "d344950a",
   "metadata": {},
   "outputs": [],
   "source": [
    "#Transformado os dados cria-se o pipeline de treinamento\n",
    "train_pipeline = Pipeline([\n",
    "    ('transformer_pipe', column_transformer_pipeline),\n",
    "    ('balancear', RandomOverSampler(random_state=42)),\n",
    "    ('dt', DecisionTreeClassifier(random_state=42))\n",
    "])"
   ]
  },
  {
   "cell_type": "code",
   "execution_count": 352,
   "id": "26b2b176",
   "metadata": {},
   "outputs": [
    {
     "data": {
      "text/html": [
       "<style>#sk-container-id-34 {color: black;background-color: white;}#sk-container-id-34 pre{padding: 0;}#sk-container-id-34 div.sk-toggleable {background-color: white;}#sk-container-id-34 label.sk-toggleable__label {cursor: pointer;display: block;width: 100%;margin-bottom: 0;padding: 0.3em;box-sizing: border-box;text-align: center;}#sk-container-id-34 label.sk-toggleable__label-arrow:before {content: \"▸\";float: left;margin-right: 0.25em;color: #696969;}#sk-container-id-34 label.sk-toggleable__label-arrow:hover:before {color: black;}#sk-container-id-34 div.sk-estimator:hover label.sk-toggleable__label-arrow:before {color: black;}#sk-container-id-34 div.sk-toggleable__content {max-height: 0;max-width: 0;overflow: hidden;text-align: left;background-color: #f0f8ff;}#sk-container-id-34 div.sk-toggleable__content pre {margin: 0.2em;color: black;border-radius: 0.25em;background-color: #f0f8ff;}#sk-container-id-34 input.sk-toggleable__control:checked~div.sk-toggleable__content {max-height: 200px;max-width: 100%;overflow: auto;}#sk-container-id-34 input.sk-toggleable__control:checked~label.sk-toggleable__label-arrow:before {content: \"▾\";}#sk-container-id-34 div.sk-estimator input.sk-toggleable__control:checked~label.sk-toggleable__label {background-color: #d4ebff;}#sk-container-id-34 div.sk-label input.sk-toggleable__control:checked~label.sk-toggleable__label {background-color: #d4ebff;}#sk-container-id-34 input.sk-hidden--visually {border: 0;clip: rect(1px 1px 1px 1px);clip: rect(1px, 1px, 1px, 1px);height: 1px;margin: -1px;overflow: hidden;padding: 0;position: absolute;width: 1px;}#sk-container-id-34 div.sk-estimator {font-family: monospace;background-color: #f0f8ff;border: 1px dotted black;border-radius: 0.25em;box-sizing: border-box;margin-bottom: 0.5em;}#sk-container-id-34 div.sk-estimator:hover {background-color: #d4ebff;}#sk-container-id-34 div.sk-parallel-item::after {content: \"\";width: 100%;border-bottom: 1px solid gray;flex-grow: 1;}#sk-container-id-34 div.sk-label:hover label.sk-toggleable__label {background-color: #d4ebff;}#sk-container-id-34 div.sk-serial::before {content: \"\";position: absolute;border-left: 1px solid gray;box-sizing: border-box;top: 0;bottom: 0;left: 50%;z-index: 0;}#sk-container-id-34 div.sk-serial {display: flex;flex-direction: column;align-items: center;background-color: white;padding-right: 0.2em;padding-left: 0.2em;position: relative;}#sk-container-id-34 div.sk-item {position: relative;z-index: 1;}#sk-container-id-34 div.sk-parallel {display: flex;align-items: stretch;justify-content: center;background-color: white;position: relative;}#sk-container-id-34 div.sk-item::before, #sk-container-id-34 div.sk-parallel-item::before {content: \"\";position: absolute;border-left: 1px solid gray;box-sizing: border-box;top: 0;bottom: 0;left: 50%;z-index: -1;}#sk-container-id-34 div.sk-parallel-item {display: flex;flex-direction: column;z-index: 1;position: relative;background-color: white;}#sk-container-id-34 div.sk-parallel-item:first-child::after {align-self: flex-end;width: 50%;}#sk-container-id-34 div.sk-parallel-item:last-child::after {align-self: flex-start;width: 50%;}#sk-container-id-34 div.sk-parallel-item:only-child::after {width: 0;}#sk-container-id-34 div.sk-dashed-wrapped {border: 1px dashed gray;margin: 0 0.4em 0.5em 0.4em;box-sizing: border-box;padding-bottom: 0.4em;background-color: white;}#sk-container-id-34 div.sk-label label {font-family: monospace;font-weight: bold;display: inline-block;line-height: 1.2em;}#sk-container-id-34 div.sk-label-container {text-align: center;}#sk-container-id-34 div.sk-container {/* jupyter's `normalize.less` sets `[hidden] { display: none; }` but bootstrap.min.css set `[hidden] { display: none !important; }` so we also need the `!important` here to be able to override the default hidden behavior on the sphinx rendered scikit-learn.org. See: https://github.com/scikit-learn/scikit-learn/issues/21755 */display: inline-block !important;position: relative;}#sk-container-id-34 div.sk-text-repr-fallback {display: none;}</style><div id=\"sk-container-id-34\" class=\"sk-top-container\"><div class=\"sk-text-repr-fallback\"><pre>GridSearchCV(cv=StratifiedKFold(n_splits=5, random_state=42, shuffle=True),\n",
       "             estimator=Pipeline(steps=[(&#x27;transformer_pipe&#x27;,\n",
       "                                        ColumnTransformer(transformers=[(&#x27;cat&#x27;,\n",
       "                                                                         Pipeline(steps=[(&#x27;impute&#x27;,\n",
       "                                                                                          SimpleImputer(fill_value=&#x27;#&#x27;,\n",
       "                                                                                                        strategy=&#x27;constant&#x27;)),\n",
       "                                                                                         (&#x27;encode&#x27;,\n",
       "                                                                                          OneHotEncoder(drop=&#x27;first&#x27;,\n",
       "                                                                                                        handle_unknown=&#x27;ignore&#x27;,\n",
       "                                                                                                        sparse=False))]),\n",
       "                                                                         [&#x27;product_code&#x27;,\n",
       "                                                                          &#x27;attribute_0&#x27;,\n",
       "                                                                          &#x27;attrib...\n",
       "                                                                          &#x27;measurement_16&#x27;,\n",
       "                                                                          &#x27;measurement_17&#x27;])])),\n",
       "                                       (&#x27;balancear&#x27;,\n",
       "                                        RandomOverSampler(random_state=42)),\n",
       "                                       (&#x27;rfe&#x27;,\n",
       "                                        RFE(estimator=DecisionTreeClassifier(random_state=42))),\n",
       "                                       (&#x27;padronizar&#x27;, MinMaxScaler()),\n",
       "                                       (&#x27;dt&#x27;,\n",
       "                                        DecisionTreeClassifier(random_state=42))]),\n",
       "             n_jobs=-1,\n",
       "             param_grid={&#x27;dt__criterion&#x27;: [&#x27;gini&#x27;, &#x27;entropy&#x27;, &#x27;log_loss&#x27;],\n",
       "                         &#x27;rfe__n_features_to_select&#x27;: range(1, 16)},\n",
       "             scoring=&#x27;roc_auc&#x27;)</pre><b>In a Jupyter environment, please rerun this cell to show the HTML representation or trust the notebook. <br />On GitHub, the HTML representation is unable to render, please try loading this page with nbviewer.org.</b></div><div class=\"sk-container\" hidden><div class=\"sk-item sk-dashed-wrapped\"><div class=\"sk-label-container\"><div class=\"sk-label sk-toggleable\"><input class=\"sk-toggleable__control sk-hidden--visually\" id=\"sk-estimator-id-305\" type=\"checkbox\" ><label for=\"sk-estimator-id-305\" class=\"sk-toggleable__label sk-toggleable__label-arrow\">GridSearchCV</label><div class=\"sk-toggleable__content\"><pre>GridSearchCV(cv=StratifiedKFold(n_splits=5, random_state=42, shuffle=True),\n",
       "             estimator=Pipeline(steps=[(&#x27;transformer_pipe&#x27;,\n",
       "                                        ColumnTransformer(transformers=[(&#x27;cat&#x27;,\n",
       "                                                                         Pipeline(steps=[(&#x27;impute&#x27;,\n",
       "                                                                                          SimpleImputer(fill_value=&#x27;#&#x27;,\n",
       "                                                                                                        strategy=&#x27;constant&#x27;)),\n",
       "                                                                                         (&#x27;encode&#x27;,\n",
       "                                                                                          OneHotEncoder(drop=&#x27;first&#x27;,\n",
       "                                                                                                        handle_unknown=&#x27;ignore&#x27;,\n",
       "                                                                                                        sparse=False))]),\n",
       "                                                                         [&#x27;product_code&#x27;,\n",
       "                                                                          &#x27;attribute_0&#x27;,\n",
       "                                                                          &#x27;attrib...\n",
       "                                                                          &#x27;measurement_16&#x27;,\n",
       "                                                                          &#x27;measurement_17&#x27;])])),\n",
       "                                       (&#x27;balancear&#x27;,\n",
       "                                        RandomOverSampler(random_state=42)),\n",
       "                                       (&#x27;rfe&#x27;,\n",
       "                                        RFE(estimator=DecisionTreeClassifier(random_state=42))),\n",
       "                                       (&#x27;padronizar&#x27;, MinMaxScaler()),\n",
       "                                       (&#x27;dt&#x27;,\n",
       "                                        DecisionTreeClassifier(random_state=42))]),\n",
       "             n_jobs=-1,\n",
       "             param_grid={&#x27;dt__criterion&#x27;: [&#x27;gini&#x27;, &#x27;entropy&#x27;, &#x27;log_loss&#x27;],\n",
       "                         &#x27;rfe__n_features_to_select&#x27;: range(1, 16)},\n",
       "             scoring=&#x27;roc_auc&#x27;)</pre></div></div></div><div class=\"sk-parallel\"><div class=\"sk-parallel-item\"><div class=\"sk-item\"><div class=\"sk-label-container\"><div class=\"sk-label sk-toggleable\"><input class=\"sk-toggleable__control sk-hidden--visually\" id=\"sk-estimator-id-306\" type=\"checkbox\" ><label for=\"sk-estimator-id-306\" class=\"sk-toggleable__label sk-toggleable__label-arrow\">estimator: Pipeline</label><div class=\"sk-toggleable__content\"><pre>Pipeline(steps=[(&#x27;transformer_pipe&#x27;,\n",
       "                 ColumnTransformer(transformers=[(&#x27;cat&#x27;,\n",
       "                                                  Pipeline(steps=[(&#x27;impute&#x27;,\n",
       "                                                                   SimpleImputer(fill_value=&#x27;#&#x27;,\n",
       "                                                                                 strategy=&#x27;constant&#x27;)),\n",
       "                                                                  (&#x27;encode&#x27;,\n",
       "                                                                   OneHotEncoder(drop=&#x27;first&#x27;,\n",
       "                                                                                 handle_unknown=&#x27;ignore&#x27;,\n",
       "                                                                                 sparse=False))]),\n",
       "                                                  [&#x27;product_code&#x27;,\n",
       "                                                   &#x27;attribute_0&#x27;,\n",
       "                                                   &#x27;attribute_1&#x27;]),\n",
       "                                                 (&#x27;num&#x27;,\n",
       "                                                  Pipeline(steps=[(&#x27;imputer&#x27;,\n",
       "                                                                   SimpleImputer(fill_value=0,\n",
       "                                                                                 strategy=&#x27;con...\n",
       "                                                   &#x27;measurement_0&#x27;,\n",
       "                                                   &#x27;measurement_1&#x27;,\n",
       "                                                   &#x27;measurement_2&#x27;,\n",
       "                                                   &#x27;measurement_10&#x27;,\n",
       "                                                   &#x27;measurement_11&#x27;,\n",
       "                                                   &#x27;measurement_12&#x27;,\n",
       "                                                   &#x27;measurement_14&#x27;,\n",
       "                                                   &#x27;measurement_15&#x27;,\n",
       "                                                   &#x27;measurement_16&#x27;,\n",
       "                                                   &#x27;measurement_17&#x27;])])),\n",
       "                (&#x27;balancear&#x27;, RandomOverSampler(random_state=42)),\n",
       "                (&#x27;rfe&#x27;, RFE(estimator=DecisionTreeClassifier(random_state=42))),\n",
       "                (&#x27;padronizar&#x27;, MinMaxScaler()),\n",
       "                (&#x27;dt&#x27;, DecisionTreeClassifier(random_state=42))])</pre></div></div></div><div class=\"sk-serial\"><div class=\"sk-item\"><div class=\"sk-serial\"><div class=\"sk-item sk-dashed-wrapped\"><div class=\"sk-label-container\"><div class=\"sk-label sk-toggleable\"><input class=\"sk-toggleable__control sk-hidden--visually\" id=\"sk-estimator-id-307\" type=\"checkbox\" ><label for=\"sk-estimator-id-307\" class=\"sk-toggleable__label sk-toggleable__label-arrow\">transformer_pipe: ColumnTransformer</label><div class=\"sk-toggleable__content\"><pre>ColumnTransformer(transformers=[(&#x27;cat&#x27;,\n",
       "                                 Pipeline(steps=[(&#x27;impute&#x27;,\n",
       "                                                  SimpleImputer(fill_value=&#x27;#&#x27;,\n",
       "                                                                strategy=&#x27;constant&#x27;)),\n",
       "                                                 (&#x27;encode&#x27;,\n",
       "                                                  OneHotEncoder(drop=&#x27;first&#x27;,\n",
       "                                                                handle_unknown=&#x27;ignore&#x27;,\n",
       "                                                                sparse=False))]),\n",
       "                                 [&#x27;product_code&#x27;, &#x27;attribute_0&#x27;,\n",
       "                                  &#x27;attribute_1&#x27;]),\n",
       "                                (&#x27;num&#x27;,\n",
       "                                 Pipeline(steps=[(&#x27;imputer&#x27;,\n",
       "                                                  SimpleImputer(fill_value=0,\n",
       "                                                                strategy=&#x27;constant&#x27;)),\n",
       "                                                 (&#x27;scaler&#x27;, MinMaxScaler())]),\n",
       "                                 [&#x27;attribute_2&#x27;, &#x27;attribute_3&#x27;, &#x27;measurement_0&#x27;,\n",
       "                                  &#x27;measurement_1&#x27;, &#x27;measurement_2&#x27;,\n",
       "                                  &#x27;measurement_10&#x27;, &#x27;measurement_11&#x27;,\n",
       "                                  &#x27;measurement_12&#x27;, &#x27;measurement_14&#x27;,\n",
       "                                  &#x27;measurement_15&#x27;, &#x27;measurement_16&#x27;,\n",
       "                                  &#x27;measurement_17&#x27;])])</pre></div></div></div><div class=\"sk-parallel\"><div class=\"sk-parallel-item\"><div class=\"sk-item\"><div class=\"sk-label-container\"><div class=\"sk-label sk-toggleable\"><input class=\"sk-toggleable__control sk-hidden--visually\" id=\"sk-estimator-id-308\" type=\"checkbox\" ><label for=\"sk-estimator-id-308\" class=\"sk-toggleable__label sk-toggleable__label-arrow\">cat</label><div class=\"sk-toggleable__content\"><pre>[&#x27;product_code&#x27;, &#x27;attribute_0&#x27;, &#x27;attribute_1&#x27;]</pre></div></div></div><div class=\"sk-serial\"><div class=\"sk-item\"><div class=\"sk-serial\"><div class=\"sk-item\"><div class=\"sk-estimator sk-toggleable\"><input class=\"sk-toggleable__control sk-hidden--visually\" id=\"sk-estimator-id-309\" type=\"checkbox\" ><label for=\"sk-estimator-id-309\" class=\"sk-toggleable__label sk-toggleable__label-arrow\">SimpleImputer</label><div class=\"sk-toggleable__content\"><pre>SimpleImputer(fill_value=&#x27;#&#x27;, strategy=&#x27;constant&#x27;)</pre></div></div></div><div class=\"sk-item\"><div class=\"sk-estimator sk-toggleable\"><input class=\"sk-toggleable__control sk-hidden--visually\" id=\"sk-estimator-id-310\" type=\"checkbox\" ><label for=\"sk-estimator-id-310\" class=\"sk-toggleable__label sk-toggleable__label-arrow\">OneHotEncoder</label><div class=\"sk-toggleable__content\"><pre>OneHotEncoder(drop=&#x27;first&#x27;, handle_unknown=&#x27;ignore&#x27;, sparse=False)</pre></div></div></div></div></div></div></div></div><div class=\"sk-parallel-item\"><div class=\"sk-item\"><div class=\"sk-label-container\"><div class=\"sk-label sk-toggleable\"><input class=\"sk-toggleable__control sk-hidden--visually\" id=\"sk-estimator-id-311\" type=\"checkbox\" ><label for=\"sk-estimator-id-311\" class=\"sk-toggleable__label sk-toggleable__label-arrow\">num</label><div class=\"sk-toggleable__content\"><pre>[&#x27;attribute_2&#x27;, &#x27;attribute_3&#x27;, &#x27;measurement_0&#x27;, &#x27;measurement_1&#x27;, &#x27;measurement_2&#x27;, &#x27;measurement_10&#x27;, &#x27;measurement_11&#x27;, &#x27;measurement_12&#x27;, &#x27;measurement_14&#x27;, &#x27;measurement_15&#x27;, &#x27;measurement_16&#x27;, &#x27;measurement_17&#x27;]</pre></div></div></div><div class=\"sk-serial\"><div class=\"sk-item\"><div class=\"sk-serial\"><div class=\"sk-item\"><div class=\"sk-estimator sk-toggleable\"><input class=\"sk-toggleable__control sk-hidden--visually\" id=\"sk-estimator-id-312\" type=\"checkbox\" ><label for=\"sk-estimator-id-312\" class=\"sk-toggleable__label sk-toggleable__label-arrow\">SimpleImputer</label><div class=\"sk-toggleable__content\"><pre>SimpleImputer(fill_value=0, strategy=&#x27;constant&#x27;)</pre></div></div></div><div class=\"sk-item\"><div class=\"sk-estimator sk-toggleable\"><input class=\"sk-toggleable__control sk-hidden--visually\" id=\"sk-estimator-id-313\" type=\"checkbox\" ><label for=\"sk-estimator-id-313\" class=\"sk-toggleable__label sk-toggleable__label-arrow\">MinMaxScaler</label><div class=\"sk-toggleable__content\"><pre>MinMaxScaler()</pre></div></div></div></div></div></div></div></div></div></div><div class=\"sk-item\"><div class=\"sk-estimator sk-toggleable\"><input class=\"sk-toggleable__control sk-hidden--visually\" id=\"sk-estimator-id-314\" type=\"checkbox\" ><label for=\"sk-estimator-id-314\" class=\"sk-toggleable__label sk-toggleable__label-arrow\">RandomOverSampler</label><div class=\"sk-toggleable__content\"><pre>RandomOverSampler(random_state=42)</pre></div></div></div><div class=\"sk-item sk-dashed-wrapped\"><div class=\"sk-label-container\"><div class=\"sk-label sk-toggleable\"><input class=\"sk-toggleable__control sk-hidden--visually\" id=\"sk-estimator-id-315\" type=\"checkbox\" ><label for=\"sk-estimator-id-315\" class=\"sk-toggleable__label sk-toggleable__label-arrow\">rfe: RFE</label><div class=\"sk-toggleable__content\"><pre>RFE(estimator=DecisionTreeClassifier(random_state=42))</pre></div></div></div><div class=\"sk-parallel\"><div class=\"sk-parallel-item\"><div class=\"sk-item\"><div class=\"sk-label-container\"><div class=\"sk-label sk-toggleable\"><input class=\"sk-toggleable__control sk-hidden--visually\" id=\"sk-estimator-id-316\" type=\"checkbox\" ><label for=\"sk-estimator-id-316\" class=\"sk-toggleable__label sk-toggleable__label-arrow\">estimator: DecisionTreeClassifier</label><div class=\"sk-toggleable__content\"><pre>DecisionTreeClassifier(random_state=42)</pre></div></div></div><div class=\"sk-serial\"><div class=\"sk-item\"><div class=\"sk-estimator sk-toggleable\"><input class=\"sk-toggleable__control sk-hidden--visually\" id=\"sk-estimator-id-317\" type=\"checkbox\" ><label for=\"sk-estimator-id-317\" class=\"sk-toggleable__label sk-toggleable__label-arrow\">DecisionTreeClassifier</label><div class=\"sk-toggleable__content\"><pre>DecisionTreeClassifier(random_state=42)</pre></div></div></div></div></div></div></div></div><div class=\"sk-item\"><div class=\"sk-estimator sk-toggleable\"><input class=\"sk-toggleable__control sk-hidden--visually\" id=\"sk-estimator-id-318\" type=\"checkbox\" ><label for=\"sk-estimator-id-318\" class=\"sk-toggleable__label sk-toggleable__label-arrow\">MinMaxScaler</label><div class=\"sk-toggleable__content\"><pre>MinMaxScaler()</pre></div></div></div><div class=\"sk-item\"><div class=\"sk-estimator sk-toggleable\"><input class=\"sk-toggleable__control sk-hidden--visually\" id=\"sk-estimator-id-319\" type=\"checkbox\" ><label for=\"sk-estimator-id-319\" class=\"sk-toggleable__label sk-toggleable__label-arrow\">DecisionTreeClassifier</label><div class=\"sk-toggleable__content\"><pre>DecisionTreeClassifier(random_state=42)</pre></div></div></div></div></div></div></div></div></div></div></div></div>"
      ],
      "text/plain": [
       "GridSearchCV(cv=StratifiedKFold(n_splits=5, random_state=42, shuffle=True),\n",
       "             estimator=Pipeline(steps=[('transformer_pipe',\n",
       "                                        ColumnTransformer(transformers=[('cat',\n",
       "                                                                         Pipeline(steps=[('impute',\n",
       "                                                                                          SimpleImputer(fill_value='#',\n",
       "                                                                                                        strategy='constant')),\n",
       "                                                                                         ('encode',\n",
       "                                                                                          OneHotEncoder(drop='first',\n",
       "                                                                                                        handle_unknown='ignore',\n",
       "                                                                                                        sparse=False))]),\n",
       "                                                                         ['product_code',\n",
       "                                                                          'attribute_0',\n",
       "                                                                          'attrib...\n",
       "                                                                          'measurement_16',\n",
       "                                                                          'measurement_17'])])),\n",
       "                                       ('balancear',\n",
       "                                        RandomOverSampler(random_state=42)),\n",
       "                                       ('rfe',\n",
       "                                        RFE(estimator=DecisionTreeClassifier(random_state=42))),\n",
       "                                       ('padronizar', MinMaxScaler()),\n",
       "                                       ('dt',\n",
       "                                        DecisionTreeClassifier(random_state=42))]),\n",
       "             n_jobs=-1,\n",
       "             param_grid={'dt__criterion': ['gini', 'entropy', 'log_loss'],\n",
       "                         'rfe__n_features_to_select': range(1, 16)},\n",
       "             scoring='roc_auc')"
      ]
     },
     "execution_count": 352,
     "metadata": {},
     "output_type": "execute_result"
    }
   ],
   "source": [
    "# Instanciar um estimador\n",
    "descicion_tree_estimator = DecisionTreeClassifier(random_state=42)\n",
    "\n",
    "#Instanciar um método de feature selection\n",
    "recursive_feature_elimination = RFE(estimator=DecisionTreeClassifier(random_state=42))\n",
    "\n",
    "# Criar um pipeline\n",
    "pipe = Pipeline([\n",
    "    ('transformer_pipe', column_transformer_pipeline),\n",
    "    ('balanced_method', RandomOverSampler(random_state=42)),\n",
    "    (\"rfe\", recursive_feature_elimination),\n",
    "    ('scaler', MinMaxScaler()),\n",
    "    (\"estimator\", descicion_tree_estimator)])\n",
    "\n",
    "# Definir os parâmetros do grid search\n",
    "param_grid_dt = {\"rfe__n_features_to_select\" : range(1, X_train.shape[1]+1),\n",
    "                 \"dt__criterion\" : ['gini', 'entropy', 'log_loss']}\n",
    "\n",
    "# Instanciar os samples de treinamento\n",
    "splitter = StratifiedKFold(n_splits=5, shuffle=True, random_state=42)\n",
    "\n",
    "# Instanciar GridSearchCV\n",
    "grid_dt = GridSearchCV(pipe, \n",
    "                       param_grid_dt, \n",
    "                       scoring=\"roc_auc\", \n",
    "                       cv=splitter, \n",
    "                       n_jobs=-1) \n",
    "\n",
    "# Fit do modelo\n",
    "grid_dt.fit(X_train, y_train)"
   ]
  },
  {
   "cell_type": "code",
   "execution_count": 353,
   "id": "6281fc74",
   "metadata": {},
   "outputs": [
    {
     "data": {
      "text/plain": [
       "{'dt__criterion': 'gini', 'rfe__n_features_to_select': 9}"
      ]
     },
     "execution_count": 353,
     "metadata": {},
     "output_type": "execute_result"
    }
   ],
   "source": [
    "# Melhores parâmetros encontrados\n",
    "grid_dt.best_params_"
   ]
  },
  {
   "cell_type": "code",
   "execution_count": 354,
   "id": "58ca8e64",
   "metadata": {},
   "outputs": [
    {
     "data": {
      "text/plain": [
       "0.5081404557622177"
      ]
     },
     "execution_count": 354,
     "metadata": {},
     "output_type": "execute_result"
    }
   ],
   "source": [
    "#Melhor escore \n",
    "grid_dt.best_score_"
   ]
  },
  {
   "cell_type": "code",
   "execution_count": 357,
   "id": "003678f0",
   "metadata": {},
   "outputs": [
    {
     "name": "stdout",
     "output_type": "stream",
     "text": [
      "              precision    recall  f1-score   support\n",
      "\n",
      "           0       0.79      0.78      0.78      4184\n",
      "           1       0.21      0.22      0.22      1130\n",
      "\n",
      "    accuracy                           0.66      5314\n",
      "   macro avg       0.50      0.50      0.50      5314\n",
      "weighted avg       0.67      0.66      0.66      5314\n",
      "\n"
     ]
    },
    {
     "data": {
      "text/plain": [
       "<sklearn.metrics._plot.confusion_matrix.ConfusionMatrixDisplay at 0x7f5784b77820>"
      ]
     },
     "execution_count": 357,
     "metadata": {},
     "output_type": "execute_result"
    },
    {
     "data": {
      "image/png": "[encoded data removed]",
      "text/plain": [
       "<Figure size 432x288 with 2 Axes>"
      ]
     },
     "metadata": {
      "needs_background": "light"
     },
     "output_type": "display_data"
    }
   ],
   "source": [
    "# Métricas de classificação\n",
    "y_pred_grid = grid_dt.predict(X_test)\n",
    "\n",
    "print(classification_report(y_test, y_pred_grid))\n",
    "\n",
    "cm_rfe = confusion_matrix(y_test, y_pred_grid)\n",
    "\n",
    "ConfusionMatrixDisplay(cm_rfe).plot(cmap='Blues')"
   ]
  },
  {
   "cell_type": "markdown",
   "id": "84fa24a1",
   "metadata": {},
   "source": [
    "Como foi avaliado inicialmente, os valores do target estão desbalanceados. Para minizar o impacto dessa diferença pode-se aplicar algumas técnicas para lidar com essa situação. Nesse caso será aplicado a técnica de SMOTE, aumentando a quantidade de amostras da classe minoritária para igualar com a majoritária"
   ]
  },
  {
   "cell_type": "markdown",
   "id": "ff77104f",
   "metadata": {
    "ExecuteTime": {
     "end_time": "2022-07-20T00:31:15.883860Z",
     "start_time": "2022-07-20T00:31:15.870289Z"
    }
   },
   "source": [
    "## PIPELINE\n",
    "\n",
    "- remover tais colunas\n",
    "- criar outras colunas\n",
    "- imputer mean nas colunas numéricas\n",
    "- encoding nas categóricas\n",
    "- scaler\n",
    "\n",
    "- balanceamento de classe"
   ]
  },
  {
   "cell_type": "code",
   "execution_count": null,
   "id": "681f2351",
   "metadata": {},
   "outputs": [],
   "source": []
  },
  {
   "cell_type": "markdown",
   "id": "1d0e4855",
   "metadata": {},
   "source": [
    "# Modelo"
   ]
  },
  {
   "cell_type": "markdown",
   "id": "5829b602",
   "metadata": {
    "ExecuteTime": {
     "end_time": "2022-07-20T00:31:32.867635Z",
     "start_time": "2022-07-20T00:31:32.854626Z"
    }
   },
   "source": [
    "Usa o modelo dentro do pipeline"
   ]
  },
  {
   "cell_type": "markdown",
   "id": "94fd68e3",
   "metadata": {},
   "source": [
    "# Avaliar o modelo"
   ]
  },
  {
   "cell_type": "code",
   "execution_count": 268,
   "id": "b652568e",
   "metadata": {
    "ExecuteTime": {
     "end_time": "2022-07-20T01:12:46.791918Z",
     "start_time": "2022-07-20T01:12:46.768284Z"
    }
   },
   "outputs": [],
   "source": [
    "def metricas_classificacao(estimator, X_train, X_test, y_train, y_test):\n",
    "    \n",
    "    print(\"\\nMétricas de avaliação de treino:\")\n",
    "\n",
    "    y_pred_train = estimator.predict(X_train)\n",
    "    y_probs_train = estimator.predict_proba(X_train)[:, 1]\n",
    "\n",
    "    ConfusionMatrixDisplay.from_predictions(y_train, y_pred_train)\n",
    "    plt.show()\n",
    "\n",
    "    print(classification_report(y_train, y_pred_train))\n",
    "    \n",
    "    disp = RocCurveDisplay.from_predictions(y_train, y_probs_train)\n",
    "    disp.ax_.set_title(f\"AUC: {roc_auc_score(y_train, y_probs_train):.3f}\", fontsize=16)\n",
    "    x = np.linspace(0, 1, 100)\n",
    "    plt.plot(x, x, ls=\":\", color=\"black\")\n",
    "    plt.show()\n",
    "\n",
    "    # ============================================\n",
    "\n",
    "    print(\"\\nMétricas de avaliação de teste:\")\n",
    "\n",
    "    y_pred_test = estimator.predict(X_test)\n",
    "    y_probs_test = estimator.predict_proba(X_test)[:, 1]\n",
    "\n",
    "    ConfusionMatrixDisplay.from_predictions(y_test, y_pred_test)\n",
    "    plt.show()\n",
    "\n",
    "    print(classification_report(y_test, y_pred_test))\n",
    "    \n",
    "    disp = RocCurveDisplay.from_predictions(y_test, y_probs_test)\n",
    "    disp.ax_.set_title(f\"AUC: {roc_auc_score(y_test, y_probs_test):.3f}\", fontsize=16)\n",
    "    x = np.linspace(0, 1, 100)\n",
    "    plt.plot(x, x, ls=\":\", color=\"black\")\n",
    "    plt.show()"
   ]
  },
  {
   "cell_type": "code",
   "execution_count": 269,
   "id": "5b84babe",
   "metadata": {},
   "outputs": [],
   "source": [
    "# TENTA ESCOLHER 3 FEATURES COM O TARGET E RODA UM MODELO.\n",
    "# VEJA O QUE ACONTECE"
   ]
  }
 ],
 "metadata": {
  "kernelspec": {
   "display_name": "Python 3 (ipykernel)",
   "language": "python",
   "name": "python3"
  },
  "language_info": {
   "codemirror_mode": {
    "name": "ipython",
    "version": 3
   },
   "file_extension": ".py",
   "mimetype": "text/x-python",
   "name": "python",
   "nbconvert_exporter": "python",
   "pygments_lexer": "ipython3",
   "version": "3.8.10"
  },
  "varInspector": {
   "cols": {
    "lenName": 16,
    "lenType": 16,
    "lenVar": 40
   },
   "kernels_config": {
    "python": {
     "delete_cmd_postfix": "",
     "delete_cmd_prefix": "del ",
     "library": "var_list.py",
     "varRefreshCmd": "print(var_dic_list())"
    },
    "r": {
     "delete_cmd_postfix": ") ",
     "delete_cmd_prefix": "rm(",
     "library": "var_list.r",
     "varRefreshCmd": "cat(var_dic_list()) "
    }
   },
   "types_to_exclude": [
    "module",
    "function",
    "builtin_function_or_method",
    "instance",
    "_Feature"
   ],
   "window_display": false
  },
  "vscode": {
   "interpreter": {
    "hash": "916dbcbb3f70747c44a77c7bcd40155683ae19c65e1c03b4aa3499c5328201f1"
   }
  }
 },
 "nbformat": 4,
 "nbformat_minor": 5
}
